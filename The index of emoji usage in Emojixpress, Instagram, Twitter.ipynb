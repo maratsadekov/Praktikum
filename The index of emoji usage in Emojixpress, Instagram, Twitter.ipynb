{
 "cells": [
  {
   "cell_type": "code",
   "execution_count": 35,
   "metadata": {},
   "outputs": [],
   "source": [
    "#ИНДЕКС ИСПОЛЬЗОВАНИЯ ЭМОДЗИ \n",
    "#Таблица с данными по популярности эмодзи в различных социальных сетях: Emojixpress, Instagram, Twitter\n",
    "#Задача: нормирование — деление массы каждого груза на соответствующий масштаб. \n",
    "#Здесь масштаб оценивается средним значением по столбцу.\n",
    "#Рассчитаем новую величину для анализа популярности эмодзи:\n",
    "#Для каждого столбца оценивается его масштаб (как среднее значение);\n",
    "#Каждое значение в столбце нормируется (делится на масштаб);\n",
    "#Нормированные значения складываются.\n",
    "#Назовём эту сумму «индекс использования».\n",
    "data = [ \n",
    "    ['Ухмыляюсь', 2.26, 1.02, 87.3],\n",
    "    ['Сияю от радости', 19.1, 1.69, 150.0],\n",
    "    ['Катаюсь от смеха', 25.6, 0.774, 0.0],\n",
    "    ['Слёзы радости', 233.0, 7.31, 2270.0],\n",
    "    ['Подмигиваю', 15.2, 2.36, 264.0],\n",
    "    ['Счастлив', 22.7, 4.26, 565.0],\n",
    "    ['Глаза-сердца', 64.6, 11.2, 834.0],\n",
    "    ['Целую', 87.5, 5.13, 432.0],\n",
    "    ['Задумчивость', 6.81, 0.636, 0.0],\n",
    "    ['Равнодушие', 6.0, 0.236, 478.0],\n",
    "    ['Солнечные очки', 4.72, 3.93, 198.0],\n",
    "    ['Громко плачу', 24.7, 1.35, 654.0],\n",
    "    ['След от поцелуя', 21.7, 2.87, 98.7],\n",
    "    ['Два сердца', 10.0, 5.69, 445.0],\n",
    "    ['Сердце', 118.0, 26.0, 1080.0],\n",
    "    ['Червы', 3.31, 1.82, 697.0],\n",
    "    ['Класс', 23.1, 3.75, 227.0],\n",
    "    ['Пожимаю плечами', 1.74, 0.11, 0.0],\n",
    "    ['Огонь', 4.5, 2.49, 150.0],\n",
    "    ['Переработка', 0.0333, 0.056, 932.0]\n",
    "]"
   ]
  },
  {
   "cell_type": "code",
   "execution_count": 36,
   "metadata": {},
   "outputs": [],
   "source": [
    "#Для расчета среднего считаем сумму использованных эмодзи по каждой социальной сети \n",
    "emojixpress_sum = 0\n",
    "instagram_sum = 0\n",
    "twitter_sum = 0\n",
    "for row in data:\n",
    "    emojixpress_sum += row[1]\n",
    "    instagram_sum += row[2]\n",
    "    twitter_sum += row[3]"
   ]
  },
  {
   "cell_type": "code",
   "execution_count": 37,
   "metadata": {},
   "outputs": [],
   "source": [
    "#Считаем среднее(масштаб)\n",
    "emojixpress_mean = emojixpress_sum / len(data)\n",
    "instagram_mean = instagram_sum / len(data)\n",
    "twitter_mean = twitter_sum / len(data)"
   ]
  },
  {
   "cell_type": "code",
   "execution_count": 38,
   "metadata": {},
   "outputs": [],
   "source": [
    "#Нормируем данные и добавляет еще один столбец с нормированными значениями \n",
    "for i in range(len(data)):\n",
    "    emojixpress_norm = data[i][1] / emojixpress_mean\n",
    "    instagram_norm = data[i][2] / instagram_mean\n",
    "    twitter_norm = data[i][3] / twitter_mean\n",
    "    index = emojixpress_norm + instagram_norm + twitter_norm\n",
    "    data[i].append(index)    "
   ]
  },
  {
   "cell_type": "code",
   "execution_count": 39,
   "metadata": {},
   "outputs": [
    {
     "name": "stdout",
     "output_type": "stream",
     "text": [
      "Название эмодзи  | Emojixpress, млн\n",
      "-----------------------------------\n",
      "Слёзы радости    |           233.00\n",
      "Сердце           |           118.00\n",
      "Целую            |            87.50\n",
      "Глаза-сердца     |            64.60\n",
      "Катаюсь от смеха |            25.60\n",
      "\n",
      "\n"
     ]
    }
   ],
   "source": [
    "#Напечатаем общее количество пяти самых популярных эмодзи в Emojixpress\n",
    "\n",
    "data.sort(key=lambda row: row[1], reverse=True)\n",
    "\n",
    "print('Название эмодзи  | Emojixpress, млн')\n",
    "print('-----------------------------------')\n",
    "for row in data[:5]:\n",
    "    print('{: <16} | {: >16.2f}'.format(row[0], row[1]))\n",
    "print()\n",
    "print()"
   ]
  },
  {
   "cell_type": "code",
   "execution_count": 40,
   "metadata": {},
   "outputs": [
    {
     "name": "stdout",
     "output_type": "stream",
     "text": [
      "Название эмодзи  |   Instagram, млн\n",
      "-----------------------------------\n",
      "Сердце           |            26.00\n",
      "Глаза-сердца     |            11.20\n",
      "Слёзы радости    |             7.31\n",
      "Два сердца       |             5.69\n",
      "Целую            |             5.13\n",
      "\n",
      "\n"
     ]
    }
   ],
   "source": [
    "#Напечатаем общее количество пяти самых популярных эмодзи в Instagram\n",
    "\n",
    "data.sort(key = lambda row: row[2], reverse=True)\n",
    "\n",
    "print('Название эмодзи  |   Instagram, млн')\n",
    "print('-----------------------------------')\n",
    "for row in data[:5]:\n",
    "    print('{: <16} | {: >16.2f}'.format(row[0], row[2]))\n",
    "print()\n",
    "print()"
   ]
  },
  {
   "cell_type": "code",
   "execution_count": 41,
   "metadata": {},
   "outputs": [
    {
     "name": "stdout",
     "output_type": "stream",
     "text": [
      "Название эмодзи  |     Twitter, млн\n",
      "-----------------------------------\n",
      "Слёзы радости    |          2270.00\n",
      "Сердце           |          1080.00\n",
      "Переработка      |           932.00\n",
      "Глаза-сердца     |           834.00\n",
      "Червы            |           697.00\n",
      "\n",
      "\n"
     ]
    }
   ],
   "source": [
    "#Напечатаем общее количество пяти самых популярных эмодзи в Twitter\n",
    "\n",
    "data.sort(key = lambda row: row[3], reverse=True)\n",
    "\n",
    "print('Название эмодзи  |     Twitter, млн')\n",
    "print('-----------------------------------')\n",
    "for row in data[:5]:\n",
    "    print('{: <16} | {: >16.2f}'.format(row[0], row[3]))\n",
    "print()\n",
    "print()"
   ]
  },
  {
   "cell_type": "code",
   "execution_count": 42,
   "metadata": {},
   "outputs": [
    {
     "name": "stdout",
     "output_type": "stream",
     "text": [
      "Название эмодзи  | Индекс использования\n",
      "---------------------------------------\n",
      "Слёзы радости    |                13.23\n",
      "Сердце           |                11.95\n",
      "Глаза-сердца     |                 6.31\n",
      "Целую            |                 4.66\n",
      "Счастлив         |                 2.87\n",
      "\n",
      "\n"
     ]
    }
   ],
   "source": [
    "#Напечатаем индекс использования пяти самых популярных эмодзи по всем трем социальным сетям\n",
    "\n",
    "data.sort(key = lambda row: row[4], reverse=True)\n",
    "\n",
    "print('Название эмодзи  | Индекс использования')\n",
    "print('---------------------------------------')\n",
    "for row in data[:5]:\n",
    "    print('{: <16} | {: >20.2f}'.format(row[0], row[4]))\n",
    "print()\n",
    "print()"
   ]
  },
  {
   "cell_type": "code",
   "execution_count": null,
   "metadata": {},
   "outputs": [],
   "source": []
  },
  {
   "cell_type": "code",
   "execution_count": null,
   "metadata": {},
   "outputs": [],
   "source": []
  }
 ],
 "metadata": {
  "kernelspec": {
   "display_name": "Python 3",
   "language": "python",
   "name": "python3"
  },
  "language_info": {
   "codemirror_mode": {
    "name": "ipython",
    "version": 3
   },
   "file_extension": ".py",
   "mimetype": "text/x-python",
   "name": "python",
   "nbconvert_exporter": "python",
   "pygments_lexer": "ipython3",
   "version": "3.7.1"
  }
 },
 "nbformat": 4,
 "nbformat_minor": 2
}
